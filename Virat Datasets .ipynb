{
 "cells": [
  {
   "cell_type": "code",
   "execution_count": 1,
   "id": "c23a9c99",
   "metadata": {},
   "outputs": [],
   "source": [
    "import numpy as np,pandas as pd,seaborn as sns\n",
    "import warnings\n",
    "warnings.filterwarnings(\"ignore\")\n",
    "import matplotlib.pyplot as plt\n",
    "sns.set()\n",
    "sns.set(font_scale=1.5)"
   ]
  },
  {
   "cell_type": "code",
   "execution_count": 2,
   "id": "33573a27",
   "metadata": {},
   "outputs": [],
   "source": [
    "data=pd.read_csv(\"virat.csv\")"
   ]
  },
  {
   "cell_type": "code",
   "execution_count": 3,
   "id": "b0069dee",
   "metadata": {},
   "outputs": [
    {
     "data": {
      "text/html": [
       "<div>\n",
       "<style scoped>\n",
       "    .dataframe tbody tr th:only-of-type {\n",
       "        vertical-align: middle;\n",
       "    }\n",
       "\n",
       "    .dataframe tbody tr th {\n",
       "        vertical-align: top;\n",
       "    }\n",
       "\n",
       "    .dataframe thead th {\n",
       "        text-align: right;\n",
       "    }\n",
       "</style>\n",
       "<table border=\"1\" class=\"dataframe\">\n",
       "  <thead>\n",
       "    <tr style=\"text-align: right;\">\n",
       "      <th></th>\n",
       "      <th>Runs</th>\n",
       "      <th>Mins</th>\n",
       "      <th>BF</th>\n",
       "      <th>4s</th>\n",
       "      <th>6s</th>\n",
       "      <th>SR</th>\n",
       "      <th>Pos</th>\n",
       "      <th>Dismissal</th>\n",
       "      <th>Inns</th>\n",
       "      <th>Opposition</th>\n",
       "      <th>Ground</th>\n",
       "      <th>Start Date</th>\n",
       "    </tr>\n",
       "  </thead>\n",
       "  <tbody>\n",
       "    <tr>\n",
       "      <th>0</th>\n",
       "      <td>12</td>\n",
       "      <td>33</td>\n",
       "      <td>22</td>\n",
       "      <td>1</td>\n",
       "      <td>0</td>\n",
       "      <td>54.54</td>\n",
       "      <td>2</td>\n",
       "      <td>lbw</td>\n",
       "      <td>1</td>\n",
       "      <td>v Sri Lanka</td>\n",
       "      <td>Dambulla</td>\n",
       "      <td>18-Aug-08</td>\n",
       "    </tr>\n",
       "    <tr>\n",
       "      <th>1</th>\n",
       "      <td>37</td>\n",
       "      <td>82</td>\n",
       "      <td>67</td>\n",
       "      <td>6</td>\n",
       "      <td>0</td>\n",
       "      <td>55.22</td>\n",
       "      <td>2</td>\n",
       "      <td>caught</td>\n",
       "      <td>2</td>\n",
       "      <td>v Sri Lanka</td>\n",
       "      <td>Dambulla</td>\n",
       "      <td>20-Aug-08</td>\n",
       "    </tr>\n",
       "  </tbody>\n",
       "</table>\n",
       "</div>"
      ],
      "text/plain": [
       "  Runs Mins  BF  4s  6s     SR  Pos Dismissal  Inns   Opposition    Ground  \\\n",
       "0   12   33  22   1   0  54.54    2       lbw     1  v Sri Lanka  Dambulla   \n",
       "1   37   82  67   6   0  55.22    2    caught     2  v Sri Lanka  Dambulla   \n",
       "\n",
       "  Start Date  \n",
       "0  18-Aug-08  \n",
       "1  20-Aug-08  "
      ]
     },
     "execution_count": 3,
     "metadata": {},
     "output_type": "execute_result"
    }
   ],
   "source": [
    "data.head(2)"
   ]
  },
  {
   "cell_type": "markdown",
   "id": "a9f85b8d",
   "metadata": {},
   "source": [
    "# Analyse the spread of runs scored by Virat in all his matches, and report the difference between the scores at the 50th percentile and the 25th percentile, respectively.\n",
    " \n",
    "\n",
    "[Hint: You might observe that in some of the scores, there's an asterisk (*) associated with it indicating that Virat was Not Out in that match.]"
   ]
  },
  {
   "cell_type": "code",
   "execution_count": 4,
   "id": "b9ebb4fb",
   "metadata": {},
   "outputs": [
    {
     "data": {
      "text/plain": [
       "array(['12', '37', '25', '54', '31', '2*', '30', '10', '27', '107', '91',\n",
       "       '102*', '57', '0', '18', '28', '118', '105', '64', '63*', '2',\n",
       "       '22', '87*', '100*', '34', '1', '59', '24', '9', '35', '81', '94',\n",
       "       '7', '112*', '86*', '3', '117', '20', '23*', '80', '21', '66',\n",
       "       '106', '38', '128*', '23', '6', '15', '77*', '26', '43', '11',\n",
       "       '102', '115', '14', '68*', '61', '68', '115*', '86', '99', '19',\n",
       "       '123', '78', '82', '136', '40', '1*', '13', '62', '127', '49',\n",
       "       '53', '139*', '77', '138', '8', '85*', '154*', '45', '65', '122',\n",
       "       '55'], dtype=object)"
      ]
     },
     "execution_count": 4,
     "metadata": {},
     "output_type": "execute_result"
    }
   ],
   "source": [
    "data.Runs.unique() # to find the asterisk(*)"
   ]
  },
  {
   "cell_type": "code",
   "execution_count": 5,
   "id": "283a5610",
   "metadata": {},
   "outputs": [],
   "source": [
    "data.Runs=data.Runs.replace({\"\\*\":\"\"},regex=True)"
   ]
  },
  {
   "cell_type": "code",
   "execution_count": 6,
   "id": "5a6a2dc3",
   "metadata": {},
   "outputs": [
    {
     "data": {
      "text/plain": [
       "array(['12', '37', '25', '54', '31', '2', '30', '10', '27', '107', '91',\n",
       "       '102', '57', '0', '18', '28', '118', '105', '64', '63', '22', '87',\n",
       "       '100', '34', '1', '59', '24', '9', '35', '81', '94', '7', '112',\n",
       "       '86', '3', '117', '20', '23', '80', '21', '66', '106', '38', '128',\n",
       "       '6', '15', '77', '26', '43', '11', '115', '14', '68', '61', '99',\n",
       "       '19', '123', '78', '82', '136', '40', '13', '62', '127', '49',\n",
       "       '53', '139', '138', '8', '85', '154', '45', '65', '122', '55'],\n",
       "      dtype=object)"
      ]
     },
     "execution_count": 6,
     "metadata": {},
     "output_type": "execute_result"
    }
   ],
   "source": [
    "data.Runs.unique() # after remove the asterisk(*)"
   ]
  },
  {
   "cell_type": "code",
   "execution_count": 7,
   "id": "ecab15af",
   "metadata": {},
   "outputs": [],
   "source": [
    "data.Runs=data.Runs.astype(\"int\")"
   ]
  },
  {
   "cell_type": "code",
   "execution_count": 8,
   "id": "c50691cb",
   "metadata": {},
   "outputs": [
    {
     "data": {
      "text/plain": [
       "count    132.000000\n",
       "mean      46.848485\n",
       "std       41.994635\n",
       "min        0.000000\n",
       "25%       10.000000\n",
       "50%       32.500000\n",
       "75%       80.250000\n",
       "max      154.000000\n",
       "Name: Runs, dtype: float64"
      ]
     },
     "execution_count": 8,
     "metadata": {},
     "output_type": "execute_result"
    }
   ],
   "source": [
    "data.Runs.describe()"
   ]
  },
  {
   "cell_type": "code",
   "execution_count": 9,
   "id": "9b8b78a7",
   "metadata": {},
   "outputs": [
    {
     "data": {
      "text/plain": [
       "22"
      ]
     },
     "execution_count": 9,
     "metadata": {},
     "output_type": "execute_result"
    }
   ],
   "source": [
    "32-10 "
   ]
  },
  {
   "cell_type": "markdown",
   "id": "5476187f",
   "metadata": {},
   "source": [
    "**Answer is B**"
   ]
  },
  {
   "cell_type": "markdown",
   "id": "cfd9467d",
   "metadata": {},
   "source": [
    "# Box Plots\n",
    "Question 2: Plot a Box Plot to analyse the spread of Runs that Virat has scored. The upper fence in the box plot lies in which interval?\n",
    "\n",
    "a)100-120\n",
    "b)120-140\n",
    "c)140-160\n",
    "d)160-180"
   ]
  },
  {
   "cell_type": "code",
   "execution_count": 10,
   "id": "52f023aa",
   "metadata": {},
   "outputs": [
    {
     "data": {
      "text/plain": [
       "Index(['Runs', 'Mins', 'BF', '4s', '6s', 'SR', 'Pos', 'Dismissal', 'Inns',\n",
       "       'Opposition', 'Ground', 'Start Date'],\n",
       "      dtype='object')"
      ]
     },
     "execution_count": 10,
     "metadata": {},
     "output_type": "execute_result"
    }
   ],
   "source": [
    "data.columns"
   ]
  },
  {
   "cell_type": "code",
   "execution_count": 11,
   "id": "a89e5675",
   "metadata": {},
   "outputs": [
    {
     "data": {
      "image/png": "[encoded data removed]",
      "text/plain": [
       "<Figure size 432x288 with 1 Axes>"
      ]
     },
     "metadata": {},
     "output_type": "display_data"
    }
   ],
   "source": [
    "sns.boxplot(data.Runs)\n",
    "plt.show()"
   ]
  },
  {
   "cell_type": "markdown",
   "id": "38c38953",
   "metadata": {},
   "source": [
    "**Correct Answer is C**"
   ]
  },
  {
   "cell_type": "markdown",
   "id": "b52dba0c",
   "metadata": {},
   "source": [
    "# False Statement\n",
    "Q3:Consider the following statements and choose the correct option\n",
    "\n",
    " I - Virat has played the maximum number of matches in 2011\n",
    " II - Virat has the highest run average in the year 2017\n",
    " III - Virat has the maximum score in a single match and the highest run average in the year 2016.\n",
    "Which of the above statements is/are false?\n",
    "\n",
    "a)I and II\n",
    "b)I and III\n",
    "c)II\n",
    "d)III"
   ]
  },
  {
   "cell_type": "code",
   "execution_count": 12,
   "id": "08534b80",
   "metadata": {},
   "outputs": [
    {
     "data": {
      "text/plain": [
       "Index(['Runs', 'Mins', 'BF', '4s', '6s', 'SR', 'Pos', 'Dismissal', 'Inns',\n",
       "       'Opposition', 'Ground', 'Start Date'],\n",
       "      dtype='object')"
      ]
     },
     "execution_count": 12,
     "metadata": {},
     "output_type": "execute_result"
    }
   ],
   "source": [
    "data.columns"
   ]
  },
  {
   "cell_type": "code",
   "execution_count": 13,
   "id": "082c783b",
   "metadata": {},
   "outputs": [],
   "source": [
    "data[\"Year\"]=pd.DatetimeIndex(data[\"Start Date\"]).year"
   ]
  },
  {
   "cell_type": "code",
   "execution_count": 14,
   "id": "73f7c892",
   "metadata": {},
   "outputs": [
    {
     "data": {
      "text/plain": [
       "2011    31\n",
       "2013    23\n",
       "2014    17\n",
       "2010    16\n",
       "2012    11\n",
       "2015    10\n",
       "2016    10\n",
       "2009     6\n",
       "2008     5\n",
       "2017     3\n",
       "Name: Year, dtype: int64"
      ]
     },
     "execution_count": 14,
     "metadata": {},
     "output_type": "execute_result"
    }
   ],
   "source": [
    "data.Year.value_counts() #For verifying statement 1"
   ]
  },
  {
   "cell_type": "code",
   "execution_count": 15,
   "id": "f392d884",
   "metadata": {},
   "outputs": [],
   "source": [
    "#For verifying statement 2"
   ]
  },
  {
   "cell_type": "code",
   "execution_count": 16,
   "id": "25006186",
   "metadata": {},
   "outputs": [
    {
     "data": {
      "text/plain": [
       "Year\n",
       "2008    31.800000\n",
       "2009    38.333333\n",
       "2010    45.375000\n",
       "2011    42.000000\n",
       "2012    40.363636\n",
       "2013    47.826087\n",
       "2014    58.529412\n",
       "2015    30.400000\n",
       "2016    73.900000\n",
       "2017    61.666667\n",
       "Name: Runs, dtype: float64"
      ]
     },
     "execution_count": 16,
     "metadata": {},
     "output_type": "execute_result"
    }
   ],
   "source": [
    "data.groupby(by=[\"Year\"])[\"Runs\"].mean()"
   ]
  },
  {
   "cell_type": "code",
   "execution_count": 17,
   "id": "d35bd21c",
   "metadata": {},
   "outputs": [],
   "source": [
    "#For verifying statement 3"
   ]
  },
  {
   "cell_type": "code",
   "execution_count": 18,
   "id": "e9069b6a",
   "metadata": {},
   "outputs": [
    {
     "data": {
      "text/plain": [
       "Year\n",
       "2008     54\n",
       "2009    107\n",
       "2010    118\n",
       "2011    117\n",
       "2012    128\n",
       "2013    115\n",
       "2014    139\n",
       "2015    138\n",
       "2016    154\n",
       "2017    122\n",
       "Name: Runs, dtype: int32"
      ]
     },
     "execution_count": 18,
     "metadata": {},
     "output_type": "execute_result"
    }
   ],
   "source": [
    "data.groupby(by=[\"Year\"])[\"Runs\"].max()"
   ]
  },
  {
   "cell_type": "markdown",
   "id": "030bc7eb",
   "metadata": {},
   "source": [
    "**Correct Answer is B**"
   ]
  },
  {
   "cell_type": "markdown",
   "id": "4a602de0",
   "metadata": {},
   "source": [
    "# Maximum frequency\n",
    "Plot a histogram for the Mins column with 15 bins. Among the three ranges mentioned below, which one has the highest frequency?\n",
    "\n",
    "A - [54.6,68)\n",
    "\n",
    "B - [68,81.4)\n",
    "\n",
    "C - [121.6,135)"
   ]
  },
  {
   "cell_type": "code",
   "execution_count": 19,
   "id": "a57e1a79",
   "metadata": {},
   "outputs": [
    {
     "data": {
      "text/html": [
       "<div>\n",
       "<style scoped>\n",
       "    .dataframe tbody tr th:only-of-type {\n",
       "        vertical-align: middle;\n",
       "    }\n",
       "\n",
       "    .dataframe tbody tr th {\n",
       "        vertical-align: top;\n",
       "    }\n",
       "\n",
       "    .dataframe thead th {\n",
       "        text-align: right;\n",
       "    }\n",
       "</style>\n",
       "<table border=\"1\" class=\"dataframe\">\n",
       "  <thead>\n",
       "    <tr style=\"text-align: right;\">\n",
       "      <th></th>\n",
       "      <th>Runs</th>\n",
       "      <th>Mins</th>\n",
       "      <th>BF</th>\n",
       "      <th>4s</th>\n",
       "      <th>6s</th>\n",
       "      <th>SR</th>\n",
       "      <th>Pos</th>\n",
       "      <th>Dismissal</th>\n",
       "      <th>Inns</th>\n",
       "      <th>Opposition</th>\n",
       "      <th>Ground</th>\n",
       "      <th>Start Date</th>\n",
       "      <th>Year</th>\n",
       "    </tr>\n",
       "  </thead>\n",
       "  <tbody>\n",
       "    <tr>\n",
       "      <th>0</th>\n",
       "      <td>12</td>\n",
       "      <td>33</td>\n",
       "      <td>22</td>\n",
       "      <td>1</td>\n",
       "      <td>0</td>\n",
       "      <td>54.54</td>\n",
       "      <td>2</td>\n",
       "      <td>lbw</td>\n",
       "      <td>1</td>\n",
       "      <td>v Sri Lanka</td>\n",
       "      <td>Dambulla</td>\n",
       "      <td>18-Aug-08</td>\n",
       "      <td>2008</td>\n",
       "    </tr>\n",
       "    <tr>\n",
       "      <th>1</th>\n",
       "      <td>37</td>\n",
       "      <td>82</td>\n",
       "      <td>67</td>\n",
       "      <td>6</td>\n",
       "      <td>0</td>\n",
       "      <td>55.22</td>\n",
       "      <td>2</td>\n",
       "      <td>caught</td>\n",
       "      <td>2</td>\n",
       "      <td>v Sri Lanka</td>\n",
       "      <td>Dambulla</td>\n",
       "      <td>20-Aug-08</td>\n",
       "      <td>2008</td>\n",
       "    </tr>\n",
       "  </tbody>\n",
       "</table>\n",
       "</div>"
      ],
      "text/plain": [
       "   Runs Mins  BF  4s  6s     SR  Pos Dismissal  Inns   Opposition    Ground  \\\n",
       "0    12   33  22   1   0  54.54    2       lbw     1  v Sri Lanka  Dambulla   \n",
       "1    37   82  67   6   0  55.22    2    caught     2  v Sri Lanka  Dambulla   \n",
       "\n",
       "  Start Date  Year  \n",
       "0  18-Aug-08  2008  \n",
       "1  20-Aug-08  2008  "
      ]
     },
     "execution_count": 19,
     "metadata": {},
     "output_type": "execute_result"
    }
   ],
   "source": [
    "data.head(2)"
   ]
  },
  {
   "cell_type": "code",
   "execution_count": 20,
   "id": "18197c66",
   "metadata": {},
   "outputs": [],
   "source": [
    "data[\"Mins\"]=data[\"Mins\"].replace({\"\\-\":0},regex=True)"
   ]
  },
  {
   "cell_type": "code",
   "execution_count": 21,
   "id": "c5ee6f25",
   "metadata": {},
   "outputs": [],
   "source": [
    "data[\"Mins\"]=data[\"Mins\"].astype(\"int\")"
   ]
  },
  {
   "cell_type": "markdown",
   "id": "b12842ef",
   "metadata": {},
   "source": [
    "**Correct Answer is C**"
   ]
  },
  {
   "cell_type": "code",
   "execution_count": 22,
   "id": "4129dc45",
   "metadata": {},
   "outputs": [
    {
     "data": {
      "image/png": "[encoded data removed]",
      "text/plain": [
       "<Figure size 432x288 with 1 Axes>"
      ]
     },
     "metadata": {},
     "output_type": "display_data"
    }
   ],
   "source": [
    "data[\"Mins\"].plot(kind=\"hist\",range=[54.6,68],bins=15)\n",
    "data[\"Mins\"].plot(kind=\"hist\",range=[68,81.4],bins=15)\n",
    "data[\"Mins\"].plot(kind=\"hist\",range=[121.6,135],bins=15)\n",
    "plt.show()"
   ]
  }
 ],
 "metadata": {
  "kernelspec": {
   "display_name": "Python 3",
   "language": "python",
   "name": "python3"
  },
  "language_info": {
   "codemirror_mode": {
    "name": "ipython",
    "version": 3
   },
   "file_extension": ".py",
   "mimetype": "text/x-python",
   "name": "python",
   "nbconvert_exporter": "python",
   "pygments_lexer": "ipython3",
   "version": "3.8.8"
  }
 },
 "nbformat": 4,
 "nbformat_minor": 5
}
